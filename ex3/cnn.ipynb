{
  "cells": [
    {
      "cell_type": "markdown",
      "metadata": {
        "id": "XEDrFr3_VWQm"
      },
      "source": [
        "# Artificial Neural Networks and Deep Learning  \n",
        "\n",
        "\n",
        "\n",
        "## Assignment 3.2 - Convolutional Neural Networks\n",
        "\n",
        "Prof. Dr. Ir. Johan A. K. Suykens     \n",
        "\n",
        "In this file, we will implement a convolutional neural network from scratch.\n",
        "\n",
        "We only consider classification tasks here in the session.\n",
        "\n",
        "\n"
      ]
    },
    {
      "cell_type": "code",
      "execution_count": 1,
      "metadata": {
        "id": "k06FYdbfVReE"
      },
      "outputs": [],
      "source": [
        "# Please first load your google drive\n",
        "# from google.colab import drive\n",
        "# drive.mount('/content/drive')"
      ]
    },
    {
      "cell_type": "code",
      "execution_count": 2,
      "metadata": {
        "id": "tBcSkiFpVmTq"
      },
      "outputs": [],
      "source": [
        "# Please go to Edit > Notebook settings > Hardware accelerator > choose \"T4 GPU\"\n",
        "# Now check if you have loaded the GPU successfully\n",
        "# !nvidia-smi"
      ]
    },
    {
      "cell_type": "markdown",
      "metadata": {
        "id": "C2KVP3ThVt4T"
      },
      "source": [
        "# Convolutional Neural Networks\n",
        "In this section, we implement CNN from scrath and train it on the MNIST dataset.\n",
        "\n",
        "We first load the dataset as follows:"
      ]
    },
    {
      "cell_type": "code",
      "execution_count": 21,
      "metadata": {
        "id": "-X7wZ07qVny5"
      },
      "outputs": [],
      "source": [
        "from pathlib import Path\n",
        "import torch\n",
        "from torch import nn, optim, functional, utils\n",
        "from torch.utils.data.dataloader import DataLoader\n",
        "import torchvision\n",
        "from torchvision import datasets, utils\n",
        "from torchvision.datasets import MNIST\n",
        "import pickle\n",
        "\n",
        "import time, os\n",
        "\n",
        "import matplotlib.pyplot as plt\n",
        "# use seaborn\n",
        "import seaborn as sns\n",
        "\n",
        "FIGURE_PATH = Path(\"../report/figures\")\n",
        "\n",
        "# Apply the default theme\n",
        "sns.set_theme()\n",
        "plt.rcParams[\"figure.dpi\"] = 100\n",
        "plt.rcParams['savefig.dpi'] = 300"
      ]
    },
    {
      "cell_type": "code",
      "execution_count": 22,
      "metadata": {},
      "outputs": [],
      "source": [
        "class Store:\n",
        "\t\"\"\"\n",
        "\tTODO: Add \"default\" parameter to function like a defaultdict\n",
        "\tTODO: Add \"expected keys\" property to iterate over (non-)missing keys\n",
        "\t\t\t- Could also be based on a pydantic model to define expected structure\n",
        "\tTODO: Add method to remove unexpected keys\n",
        "\t\"\"\"\n",
        "\tdef __init__(self, filename):\n",
        "\t\tself.filename = filename\n",
        "\t\tself.data = {}\n",
        "\t\tif Path(filename).exists():\n",
        "\t\t\twith open(filename, 'rb') as f:\n",
        "\t\t\t\tself.data = pickle.load(f)\n",
        "\t\telse:\n",
        "\t\t\twith open(filename, 'wb') as f:\n",
        "\t\t\t\tpickle.dump(self.data, f)\n",
        "\n",
        "\tdef __getitem__(self, key):\n",
        "\t\treturn self.data[key]\n",
        "\t\n",
        "\tdef __setitem__(self, key, value):\n",
        "\t\tself.data[key] = value\n",
        "\t\twith open(self.filename, 'wb') as f:\n",
        "\t\t\tpickle.dump(self.data, f)\n",
        "\n",
        "\tdef __contains__(self, key):\n",
        "\t\treturn key in self.data\n",
        "\t\n",
        "\tdef __delitem__(self, key):\n",
        "\t\tdel self.data[key]\n",
        "\t\twith open(self.filename, 'wb') as f:\n",
        "\t\t\tpickle.dump(self.data, f)\n",
        "\n",
        "\tdef __iter__(self):\n",
        "\t\treturn iter(self.data)\n",
        "\t\n",
        "\tdef __len__(self):\n",
        "\t\treturn len(self.data)\n",
        "\t\n",
        "\tdef keys(self):\n",
        "\t\treturn self.data.keys()\n",
        "\t\n",
        "\tdef values(self):\n",
        "\t\treturn self.data.values()\n",
        "\t\n",
        "\tdef items(self):\n",
        "\t\treturn self.data.items()\n",
        "\t\n",
        "\tdef clear(self):\n",
        "\t\tself.data.clear()\n",
        "\t\twith open(self.filename, 'wb') as f:\n",
        "\t\t\tpickle.dump(self.data, f)\n",
        "\n",
        "\tdef __str__(self):\n",
        "\t\treturn str(self.data)\n",
        "\t\n",
        "\tdef __repr__(self):\n",
        "\t\treturn repr(self.data)\n",
        "\t\n",
        "\tdef __del__(self):\n",
        "\t\twith open(self.filename, 'wb') as f:\n",
        "\t\t\tpickle.dump(self.data, f)"
      ]
    },
    {
      "cell_type": "code",
      "execution_count": 23,
      "metadata": {},
      "outputs": [
        {
          "name": "stdout",
          "output_type": "stream",
          "text": [
            "[[ 3  4]\n",
            " [ 6 11]]\n"
          ]
        }
      ],
      "source": [
        "# Calculate the output of a convolution with the following 2x2 kernel with no padding and a stride\n",
        "# of 2.\n",
        "import numpy as np\n",
        "from scipy.signal import convolve2d\n",
        "\n",
        "\n",
        "matrix = np.array([[2, 5, 4, 1], [3, 1, 2, 0], [4, 5, 7, 1], [1, 2, 3, 4]])\n",
        "kernel = np.array([[1, 0], [0, 1]])\n",
        "output = convolve2d(matrix, kernel[::-1, ::-1], mode='valid')[::2, ::2]\n",
        "\n",
        "print(output)\n"
      ]
    },
    {
      "cell_type": "code",
      "execution_count": 10,
      "metadata": {},
      "outputs": [],
      "source": [
        "def get_mnist_loader(batch_size=100, num_train_samples = 10000, num_test_samples = 2000):\n",
        "    \"\"\"\n",
        "\n",
        "    :return: train_loader, test_loader\n",
        "    \"\"\"\n",
        "    train_dataset = MNIST(root='./data',\n",
        "                          train=True,\n",
        "                          transform=torchvision.transforms.ToTensor(),\n",
        "                          download=True)\n",
        "    test_dataset = MNIST(root='./data',\n",
        "                         train=False,\n",
        "                         transform=torchvision.transforms.ToTensor(),\n",
        "                         download=True)\n",
        "\n",
        "    # Randomly select a subset of samples\n",
        "    train_indices = torch.randperm(len(train_dataset))[:num_train_samples]\n",
        "    test_indices = torch.randperm(len(test_dataset))[:num_test_samples]\n",
        "\n",
        "    # Create subset samplers to be used in the dataloader\n",
        "    train_subset_sampler = torch.utils.data.SubsetRandomSampler(train_indices)\n",
        "    test_subset_sampler = torch.utils.data.SubsetRandomSampler(test_indices)\n",
        "\n",
        "    train_loader = torch.utils.data.DataLoader(dataset=train_dataset,\n",
        "                                               batch_size=batch_size,\n",
        "                                               sampler = train_subset_sampler)\n",
        "    test_loader = torch.utils.data.DataLoader(dataset=test_dataset,\n",
        "                                              batch_size=batch_size,\n",
        "                                              sampler = test_subset_sampler)\n",
        "\n",
        "\n",
        "    return train_loader, test_loader"
      ]
    },
    {
      "cell_type": "markdown",
      "metadata": {
        "id": "l8DOJpeycH1L"
      },
      "source": [
        "## Build CNN from scratch\n",
        "Our CNN is of 4 convolutional layers and 2 fully connected layers.\n",
        "You can try a different amount of layers by simply add more ``self.conv`` layers inside  ``__init__`` and ``forward`` in the following code. Please be careful with the dimensions of the convolutional layers when changing parameters such as convolution channels, kernel_size and stride."
      ]
    },
    {
      "cell_type": "markdown",
      "metadata": {
        "id": "bsGqOf9mk6yR"
      },
      "source": [
        "## Training function\n",
        "The training process includes loading the model, setting the optimizer, and running on the training set for epochs.\n",
        "After each training epoch, we evaluate the model on the test set to record the test accuracy."
      ]
    },
    {
      "cell_type": "code",
      "execution_count": 55,
      "metadata": {
        "id": "tHe1PyUucZGp"
      },
      "outputs": [],
      "source": [
        "def train(model, train_epoch, model_save, train_loader, test_loader) :\n",
        "    # Push model on to GPU if available\n",
        "    device = torch.device('cuda' if torch.cuda.is_available() else 'cpu')\n",
        "    model.to(device)\n",
        "\n",
        "    loss_func = nn.CrossEntropyLoss( )\n",
        "    # Use Adam optimizer\n",
        "    optimizer = torch.optim.Adam(model.parameters( ),lr=0.001)\n",
        "\n",
        "    acc_count = []  # record the test accuracy\n",
        "    for epoch in range(train_epoch):\n",
        "\n",
        "        model.train()\n",
        "\n",
        "        for i, (x, y) in enumerate(train_loader):\n",
        "            x = x.to(device)  # torch,Size([128,1,28,28])\n",
        "            y = y.to(device)   # torch.Size([128])\n",
        "            # Output of the model\n",
        "            out = model(x)  # torch.Size([128,10])\n",
        "            # Compute loss\n",
        "            loss = loss_func(out, y)\n",
        "\n",
        "            optimizer.zero_grad()\n",
        "            loss.backward()  # backpropagation\n",
        "            optimizer.step()  # update the network parameters\n",
        "\n",
        "            # save the model checkpoint every 20 iterations\n",
        "            if i % 20 == 0:\n",
        "                print('Training Loss:{:.6f} Batch {}/{} '.format(loss.item(), i, len(train_loader)))\n",
        "                torch.save(model, model_save)\n",
        "\n",
        "        # evaluate the model after each training epoch\n",
        "        with torch.no_grad():\n",
        "            model.eval()\n",
        "\n",
        "            true_pred = torch.zeros(1).to(device)\n",
        "            nb_sample = 0\n",
        "\n",
        "            for inputs, targets in test_loader:\n",
        "                inputs = inputs.to(device)\n",
        "                targets = targets.to(device)\n",
        "                outputs = model(inputs)\n",
        "\n",
        "                _, pred = torch.max(outputs, dim=1)\n",
        "\n",
        "                true_pred = true_pred + torch.sum(pred == targets).type(torch.FloatTensor)\n",
        "                nb_sample += len(inputs)\n",
        "\n",
        "            acc = true_pred / nb_sample\n",
        "            acc = acc.item()\n",
        "\n",
        "            acc_count.append(acc)\n",
        "\n",
        "            print('Epoch {:d}, Test Accuracy {:.3f} %'.format(epoch, acc * 100))\n",
        "\n",
        "    return acc_count"
      ]
    },
    {
      "cell_type": "markdown",
      "metadata": {
        "id": "fqXo_JIWla_l"
      },
      "source": [
        "## Let's start training!\n",
        "The network is trained for 20 epochs, batch size of 100.\n",
        "\n",
        "You can adjust the hyperparameters here if necessary."
      ]
    },
    {
      "cell_type": "code",
      "execution_count": 56,
      "metadata": {
        "id": "cMjq_kz8guO_"
      },
      "outputs": [],
      "source": [
        "# You can adjust the hyperparameters here if needed\n",
        "train_epoch = 20\n",
        "batch_size = 100\n",
        "shuffle = True\n",
        "\n",
        "# where to save the model\n",
        "model_save = './models/MNIST_CNN/ckpt.pth'\n",
        "\n",
        "import os\n",
        "if not os.path.exists('./models/MNIST_CNN'):\n",
        "    os.mkdir('./models/MNIST_CNN')"
      ]
    },
    {
      "cell_type": "code",
      "execution_count": 57,
      "metadata": {
        "id": "yhijmumReHXc"
      },
      "outputs": [
        {
          "name": "stdout",
          "output_type": "stream",
          "text": [
            "Shape of the image batch:  torch.Size([100, 1, 28, 28])\n"
          ]
        }
      ],
      "source": [
        "# load datasets\n",
        "train_loader, test_loader = get_mnist_loader(batch_size=batch_size)\n",
        "\n",
        "print(\"Shape of the image batch: \", next(iter(train_loader))[0].shape)\n",
        "store = Store(\"acc_count.pkl\")"
      ]
    },
    {
      "cell_type": "code",
      "execution_count": 268,
      "metadata": {},
      "outputs": [],
      "source": [
        "class CNNnet(torch.nn.Module):\n",
        "    def __init__(self):\n",
        "        super(CNNnet,self).__init__()\n",
        "        self.conv1 = torch.nn.Sequential(\n",
        "            # 2-D convolution\n",
        "            torch.nn.Conv2d(in_channels=1, # input channels\n",
        "                            out_channels=32, # convolution channels\n",
        "                            kernel_size=4, # kernel size of the convolution\n",
        "                            stride=2, # stride of the kernel\n",
        "                            padding=2), # padding with 0\n",
        "            # Data is normalized before entering ReLU，num_features=batch_size*num_features*height*width\n",
        "            # Output is with size (N,C,W,H), i.e., (batch_size, channels, width, height)\n",
        "            torch.nn.BatchNorm2d(32), # the input dimensionality of BatchNorm2d should match the number of convolution channels\n",
        "            # Set activation function\n",
        "            torch.nn.ReLU(),\n",
        "            torch.nn.Dropout(0.2),\n",
        "            # torch.nn.MaxPool2d(2, 2),\n",
        "        )\n",
        "        self.conv2 = torch.nn.Sequential(\n",
        "            torch.nn.Conv2d(32,32,4,2,1), # be sure to have the number of input channels match the output channels of the previous layer\n",
        "            torch.nn.BatchNorm2d(32),\n",
        "            torch.nn.ReLU(),\n",
        "            torch.nn.Dropout(0.4),\n",
        "            # torch.nn.MaxPool2d(2, 2),\n",
        "        )\n",
        "        self.conv3 = torch.nn.Sequential(\n",
        "            torch.nn.Conv2d(32,32,3,1,1),\n",
        "            torch.nn.BatchNorm2d(32),\n",
        "            torch.nn.ReLU(),\n",
        "            torch.nn.Dropout(0.4),\n",
        "        )\n",
        "        self.conv4 = torch.nn.Sequential(\n",
        "            torch.nn.Conv2d(32,64,2,1,0),\n",
        "            torch.nn.BatchNorm2d(64),\n",
        "            torch.nn.ReLU(),\n",
        "            # torch.nn.MaxPool2d(2,2),\n",
        "            # torch.nn.Dropout(0.4)\n",
        "        )\n",
        "        # set fully connected layer\n",
        "        self.mlp1 = torch.nn.Linear(2304, 100) # input dimension should match the output dimension from the previous layer\n",
        "        # final output is of dimension 10 since\n",
        "        # MNIST is a 10-class classification dataset\n",
        "        self.mlp2 = torch.nn.Linear(100, 10)\n",
        "\n",
        "    # feedforward\n",
        "    def forward(self,x):\n",
        "        x = self.conv1(x)\n",
        "        x = self.conv2(x)\n",
        "        x = self.conv3(x)\n",
        "        x = self.conv4(x)\n",
        "        # flatten tensor to 1-D\n",
        "        x = self.mlp1(x.view(x.size(0),-1))\n",
        "        x = self.mlp2(x)\n",
        "        return x"
      ]
    },
    {
      "cell_type": "code",
      "execution_count": 269,
      "metadata": {},
      "outputs": [
        {
          "name": "stdout",
          "output_type": "stream",
          "text": [
            "Training Loss:2.332529 Batch 0/100 \n",
            "Training Loss:0.889077 Batch 20/100 \n",
            "Training Loss:0.500799 Batch 40/100 \n",
            "Training Loss:0.397503 Batch 60/100 \n",
            "Training Loss:0.392155 Batch 80/100 \n",
            "Epoch 0, Test Accuracy 94.150 %\n",
            "Training Loss:0.422666 Batch 0/100 \n",
            "Training Loss:0.150731 Batch 20/100 \n",
            "Training Loss:0.305067 Batch 40/100 \n",
            "Training Loss:0.358096 Batch 60/100 \n",
            "Training Loss:0.347450 Batch 80/100 \n",
            "Epoch 1, Test Accuracy 95.550 %\n",
            "Training Loss:0.158108 Batch 0/100 \n",
            "Training Loss:0.170049 Batch 20/100 \n",
            "Training Loss:0.054528 Batch 40/100 \n",
            "Training Loss:0.166135 Batch 60/100 \n",
            "Training Loss:0.201642 Batch 80/100 \n",
            "Epoch 2, Test Accuracy 97.150 %\n",
            "Training Loss:0.099589 Batch 0/100 \n",
            "Training Loss:0.183816 Batch 20/100 \n",
            "Training Loss:0.180226 Batch 40/100 \n",
            "Training Loss:0.253212 Batch 60/100 \n",
            "Training Loss:0.081286 Batch 80/100 \n",
            "Epoch 3, Test Accuracy 97.100 %\n",
            "Training Loss:0.146281 Batch 0/100 \n",
            "Training Loss:0.215650 Batch 20/100 \n",
            "Training Loss:0.136270 Batch 40/100 \n",
            "Training Loss:0.123437 Batch 60/100 \n",
            "Training Loss:0.119471 Batch 80/100 \n",
            "Epoch 4, Test Accuracy 97.450 %\n",
            "Training Loss:0.121755 Batch 0/100 \n",
            "Training Loss:0.138900 Batch 20/100 \n",
            "Training Loss:0.084326 Batch 40/100 \n",
            "Training Loss:0.244426 Batch 60/100 \n",
            "Training Loss:0.095934 Batch 80/100 \n",
            "Epoch 5, Test Accuracy 97.850 %\n",
            "Training Loss:0.061013 Batch 0/100 \n",
            "Training Loss:0.087137 Batch 20/100 \n",
            "Training Loss:0.112483 Batch 40/100 \n",
            "Training Loss:0.122793 Batch 60/100 \n",
            "Training Loss:0.158798 Batch 80/100 \n",
            "Epoch 6, Test Accuracy 97.450 %\n",
            "Training Loss:0.023305 Batch 0/100 \n",
            "Training Loss:0.254850 Batch 20/100 \n",
            "Training Loss:0.090068 Batch 40/100 \n",
            "Training Loss:0.146529 Batch 60/100 \n",
            "Training Loss:0.055447 Batch 80/100 \n",
            "Epoch 7, Test Accuracy 97.800 %\n",
            "Training Loss:0.080051 Batch 0/100 \n",
            "Training Loss:0.080309 Batch 20/100 \n",
            "Training Loss:0.090286 Batch 40/100 \n",
            "Training Loss:0.078132 Batch 60/100 \n",
            "Training Loss:0.097415 Batch 80/100 \n",
            "Epoch 8, Test Accuracy 97.850 %\n",
            "Training Loss:0.063317 Batch 0/100 \n",
            "Training Loss:0.058943 Batch 20/100 \n",
            "Training Loss:0.064339 Batch 40/100 \n",
            "Training Loss:0.139343 Batch 60/100 \n",
            "Training Loss:0.072626 Batch 80/100 \n",
            "Epoch 9, Test Accuracy 97.550 %\n",
            "Training Loss:0.064545 Batch 0/100 \n",
            "Training Loss:0.100996 Batch 20/100 \n",
            "Training Loss:0.030463 Batch 40/100 \n",
            "Training Loss:0.117718 Batch 60/100 \n",
            "Training Loss:0.025875 Batch 80/100 \n",
            "Epoch 10, Test Accuracy 97.900 %\n",
            "Training Loss:0.065094 Batch 0/100 \n",
            "Training Loss:0.071140 Batch 20/100 \n",
            "Training Loss:0.021477 Batch 40/100 \n",
            "Training Loss:0.110887 Batch 60/100 \n",
            "Training Loss:0.068280 Batch 80/100 \n",
            "Epoch 11, Test Accuracy 97.450 %\n",
            "Training Loss:0.133083 Batch 0/100 \n",
            "Training Loss:0.027285 Batch 20/100 \n",
            "Training Loss:0.102627 Batch 40/100 \n",
            "Training Loss:0.028922 Batch 60/100 \n",
            "Training Loss:0.063829 Batch 80/100 \n",
            "Epoch 12, Test Accuracy 97.700 %\n",
            "Training Loss:0.078124 Batch 0/100 \n",
            "Training Loss:0.058977 Batch 20/100 \n",
            "Training Loss:0.045007 Batch 40/100 \n",
            "Training Loss:0.061506 Batch 60/100 \n",
            "Training Loss:0.072726 Batch 80/100 \n",
            "Epoch 13, Test Accuracy 98.000 %\n",
            "Training Loss:0.174658 Batch 0/100 \n",
            "Training Loss:0.029743 Batch 20/100 \n",
            "Training Loss:0.031287 Batch 40/100 \n",
            "Training Loss:0.091587 Batch 60/100 \n",
            "Training Loss:0.114865 Batch 80/100 \n",
            "Epoch 14, Test Accuracy 97.800 %\n",
            "Training Loss:0.032395 Batch 0/100 \n",
            "Training Loss:0.062445 Batch 20/100 \n",
            "Training Loss:0.090428 Batch 40/100 \n",
            "Training Loss:0.047962 Batch 60/100 \n",
            "Training Loss:0.026681 Batch 80/100 \n",
            "Epoch 15, Test Accuracy 98.100 %\n",
            "Training Loss:0.069236 Batch 0/100 \n",
            "Training Loss:0.056173 Batch 20/100 \n",
            "Training Loss:0.066983 Batch 40/100 \n",
            "Training Loss:0.071524 Batch 60/100 \n",
            "Training Loss:0.197874 Batch 80/100 \n",
            "Epoch 16, Test Accuracy 98.200 %\n",
            "Training Loss:0.111279 Batch 0/100 \n",
            "Training Loss:0.023064 Batch 20/100 \n",
            "Training Loss:0.013684 Batch 40/100 \n",
            "Training Loss:0.028044 Batch 60/100 \n",
            "Training Loss:0.158941 Batch 80/100 \n",
            "Epoch 17, Test Accuracy 97.950 %\n",
            "Training Loss:0.026363 Batch 0/100 \n",
            "Training Loss:0.016207 Batch 20/100 \n",
            "Training Loss:0.106770 Batch 40/100 \n",
            "Training Loss:0.011033 Batch 60/100 \n",
            "Training Loss:0.027159 Batch 80/100 \n",
            "Epoch 18, Test Accuracy 97.950 %\n",
            "Training Loss:0.032402 Batch 0/100 \n",
            "Training Loss:0.037706 Batch 20/100 \n",
            "Training Loss:0.017427 Batch 40/100 \n",
            "Training Loss:0.034258 Batch 60/100 \n",
            "Training Loss:0.050912 Batch 80/100 \n",
            "Epoch 19, Test Accuracy 98.300 %\n"
          ]
        }
      ],
      "source": [
        "# Define model\n",
        "model = CNNnet()\n",
        "\n",
        "# train the model\n",
        "acc_count = train(model, train_epoch=train_epoch, model_save=model_save, train_loader=train_loader, test_loader=test_loader)\n",
        "store[\"acc_count\"] = acc_count"
      ]
    },
    {
      "cell_type": "code",
      "execution_count": 263,
      "metadata": {
        "id": "V4gtbMW6jBRC"
      },
      "outputs": [
        {
          "data": {
            "image/png": "[encoded data removed]",
            "text/plain": [
              "<Figure size 640x480 with 1 Axes>"
            ]
          },
          "metadata": {},
          "output_type": "display_data"
        }
      ],
      "source": [
        "# Plot the accuracy curves w.r.t. epochs\n",
        "acc_count = store[\"acc_count\"]\n",
        "plt.figure()\n",
        "plt.plot(acc_count, marker='.')\n",
        "plt.ylabel('Accuracy')\n",
        "plt.xlabel('Epochs')\n",
        "# plt.title('Test Accuracy of CNN')\n",
        "plt.savefig(FIGURE_PATH / \"ex3_2_accuracy.pdf\", bbox_inches='tight')\n",
        "plt.show()"
      ]
    },
    {
      "cell_type": "code",
      "execution_count": 245,
      "metadata": {},
      "outputs": [
        {
          "name": "stdout",
          "output_type": "stream",
          "text": [
            "Test Accuracy 98.850%\n"
          ]
        }
      ],
      "source": [
        "# Load the model\n",
        "model = torch.load(model_save)\n",
        "\n",
        "# Evaluate the model\n",
        "with torch.no_grad():\n",
        "    model.eval()\n",
        "\n",
        "    true_pred = torch.zeros(1)\n",
        "    nb_sample = 0\n",
        "\n",
        "    for inputs, targets in test_loader:\n",
        "        outputs = model(inputs)\n",
        "\n",
        "        _, pred = torch.max(outputs, dim=1)\n",
        "\n",
        "        true_pred = true_pred + torch.sum(pred == targets).type(torch.FloatTensor)\n",
        "        nb_sample += len(inputs)\n",
        "\n",
        "    acc = true_pred / nb_sample\n",
        "    acc = acc.item()\n",
        "\n",
        "    print('Test Accuracy {:.3f}%'.format(acc * 100))"
      ]
    },
    {
      "cell_type": "code",
      "execution_count": 246,
      "metadata": {},
      "outputs": [
        {
          "data": {
            "text/plain": [
              "CNNnet(\n",
              "  (conv1): Sequential(\n",
              "    (0): Conv2d(1, 16, kernel_size=(4, 4), stride=(2, 2), padding=(2, 2))\n",
              "    (1): BatchNorm2d(16, eps=1e-05, momentum=0.1, affine=True, track_running_stats=True)\n",
              "    (2): ReLU()\n",
              "    (3): Dropout(p=0.2, inplace=False)\n",
              "  )\n",
              "  (conv2): Sequential(\n",
              "    (0): Conv2d(16, 32, kernel_size=(4, 4), stride=(2, 2), padding=(1, 1))\n",
              "    (1): BatchNorm2d(32, eps=1e-05, momentum=0.1, affine=True, track_running_stats=True)\n",
              "    (2): ReLU()\n",
              "    (3): Dropout(p=0.4, inplace=False)\n",
              "  )\n",
              "  (conv3): Sequential(\n",
              "    (0): Conv2d(32, 32, kernel_size=(3, 3), stride=(1, 1), padding=(1, 1))\n",
              "    (1): BatchNorm2d(32, eps=1e-05, momentum=0.1, affine=True, track_running_stats=True)\n",
              "    (2): ReLU()\n",
              "    (3): Dropout(p=0.4, inplace=False)\n",
              "  )\n",
              "  (conv4): Sequential(\n",
              "    (0): Conv2d(32, 64, kernel_size=(2, 2), stride=(1, 1))\n",
              "    (1): BatchNorm2d(64, eps=1e-05, momentum=0.1, affine=True, track_running_stats=True)\n",
              "    (2): ReLU()\n",
              "  )\n",
              "  (mlp1): Linear(in_features=2304, out_features=100, bias=True)\n",
              "  (mlp2): Linear(in_features=100, out_features=10, bias=True)\n",
              ")"
            ]
          },
          "execution_count": 246,
          "metadata": {},
          "output_type": "execute_result"
        }
      ],
      "source": [
        "model"
      ]
    }
  ],
  "metadata": {
    "accelerator": "GPU",
    "colab": {
      "gpuType": "T4",
      "provenance": [],
      "toc_visible": true
    },
    "kernelspec": {
      "display_name": "Python 3",
      "name": "python3"
    },
    "language_info": {
      "codemirror_mode": {
        "name": "ipython",
        "version": 3
      },
      "file_extension": ".py",
      "mimetype": "text/x-python",
      "name": "python",
      "nbconvert_exporter": "python",
      "pygments_lexer": "ipython3",
      "version": "3.11.9"
    }
  },
  "nbformat": 4,
  "nbformat_minor": 0
}
