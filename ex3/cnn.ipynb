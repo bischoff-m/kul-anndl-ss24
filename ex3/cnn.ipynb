{
  "cells": [
    {
      "cell_type": "markdown",
      "metadata": {
        "id": "XEDrFr3_VWQm"
      },
      "source": [
        "# Artificial Neural Networks and Deep Learning  \n",
        "\n",
        "\n",
        "\n",
        "## Assignment 3.2 - Convolutional Neural Networks\n",
        "\n",
        "Prof. Dr. Ir. Johan A. K. Suykens     \n",
        "\n",
        "In this file, we will implement a convolutional neural network from scratch.\n",
        "\n",
        "We only consider classification tasks here in the session.\n",
        "\n",
        "\n"
      ]
    },
    {
      "cell_type": "code",
      "execution_count": 1,
      "metadata": {
        "id": "k06FYdbfVReE"
      },
      "outputs": [],
      "source": [
        "# Please first load your google drive\n",
        "# from google.colab import drive\n",
        "# drive.mount('/content/drive')"
      ]
    },
    {
      "cell_type": "code",
      "execution_count": 2,
      "metadata": {
        "id": "tBcSkiFpVmTq"
      },
      "outputs": [],
      "source": [
        "# Please go to Edit > Notebook settings > Hardware accelerator > choose \"T4 GPU\"\n",
        "# Now check if you have loaded the GPU successfully\n",
        "# !nvidia-smi"
      ]
    },
    {
      "cell_type": "markdown",
      "metadata": {
        "id": "C2KVP3ThVt4T"
      },
      "source": [
        "# Convolutional Neural Networks\n",
        "In this section, we implement CNN from scrath and train it on the MNIST dataset.\n",
        "\n",
        "We first load the dataset as follows:"
      ]
    },
    {
      "cell_type": "code",
      "execution_count": 3,
      "metadata": {
        "id": "-X7wZ07qVny5"
      },
      "outputs": [],
      "source": [
        "import torch\n",
        "from torch import nn, optim, functional, utils\n",
        "from torch.utils.data.dataloader import DataLoader\n",
        "import torchvision\n",
        "from torchvision import datasets, utils\n",
        "from torchvision.datasets import MNIST\n",
        "\n",
        "import time, os\n",
        "\n",
        "import matplotlib.pyplot as plt\n",
        "# use seaborn\n",
        "import seaborn as sns\n",
        "\n",
        "# Apply the default theme\n",
        "sns.set_theme()\n",
        "plt.rcParams[\"figure.dpi\"] = 100\n",
        "plt.rcParams['savefig.dpi'] = 300\n",
        "\n",
        "\n",
        "def get_mnist_loader(batch_size=100, num_train_samples = 10000, num_test_samples = 2000):\n",
        "    \"\"\"\n",
        "\n",
        "    :return: train_loader, test_loader\n",
        "    \"\"\"\n",
        "    train_dataset = MNIST(root='../data',\n",
        "                          train=True,\n",
        "                          transform=torchvision.transforms.ToTensor(),\n",
        "                          download=True)\n",
        "    test_dataset = MNIST(root='../data',\n",
        "                         train=False,\n",
        "                         transform=torchvision.transforms.ToTensor(),\n",
        "                         download=True)\n",
        "\n",
        "    # Randomly select a subset of samples\n",
        "    train_indices = torch.randperm(len(train_dataset))[:num_train_samples]\n",
        "    test_indices = torch.randperm(len(test_dataset))[:num_test_samples]\n",
        "\n",
        "    # Create subset samplers to be used in the dataloader\n",
        "    train_subset_sampler = torch.utils.data.SubsetRandomSampler(train_indices)\n",
        "    test_subset_sampler = torch.utils.data.SubsetRandomSampler(test_indices)\n",
        "\n",
        "    train_loader = torch.utils.data.DataLoader(dataset=train_dataset,\n",
        "                                               batch_size=batch_size,\n",
        "                                               sampler = train_subset_sampler)\n",
        "    test_loader = torch.utils.data.DataLoader(dataset=test_dataset,\n",
        "                                              batch_size=batch_size,\n",
        "                                              sampler = test_subset_sampler)\n",
        "\n",
        "\n",
        "    return train_loader, test_loader"
      ]
    },
    {
      "cell_type": "markdown",
      "metadata": {
        "id": "l8DOJpeycH1L"
      },
      "source": [
        "## Build CNN from scratch\n",
        "Our CNN is of 4 convolutional layers and 2 fully connected layers.\n",
        "You can try a different amount of layers by simply add more ``self.conv`` layers inside  ``__init__`` and ``forward`` in the following code. Please be careful with the dimensions of the convolutional layers when changing parameters such as convolution channels, kernel_size and stride."
      ]
    },
    {
      "cell_type": "code",
      "execution_count": 4,
      "metadata": {
        "id": "vwTxoe2VV7jX"
      },
      "outputs": [],
      "source": [
        "class CNNnet(torch.nn.Module):\n",
        "    def __init__(self):\n",
        "        super(CNNnet,self).__init__()\n",
        "        self.conv1 = torch.nn.Sequential(\n",
        "            # 2-D convolution\n",
        "            torch.nn.Conv2d(in_channels=1, # input channels\n",
        "                            out_channels=16, # convolution channels\n",
        "                            kernel_size=3, # kernel size of the convolution\n",
        "                            stride=2, # stride of the kernel\n",
        "                            padding=1), # padding with 0\n",
        "            # Data is normalized before entering ReLU，num_features=batch_size*num_features*height*width\n",
        "            # Output is with size (N,C,W,H), i.e., (batch_size, channels, width, height)\n",
        "            torch.nn.BatchNorm2d(16), # the input dimensionality of BatchNorm2d should match the number of convolution channels\n",
        "            # Set activation function\n",
        "            torch.nn.ReLU()\n",
        "        )\n",
        "        self.conv2 = torch.nn.Sequential(\n",
        "            torch.nn.Conv2d(16,32,3,2,1), # be sure to have the number of input channels match the output channels of the previous layer\n",
        "            torch.nn.BatchNorm2d(32),\n",
        "            torch.nn.ReLU()\n",
        "        )\n",
        "        self.conv3 = torch.nn.Sequential(\n",
        "            torch.nn.Conv2d(32,32,3,2,1),\n",
        "            torch.nn.BatchNorm2d(32),\n",
        "            torch.nn.ReLU()\n",
        "        )\n",
        "        self.conv4 = torch.nn.Sequential(\n",
        "            torch.nn.Conv2d(32,64,2,2,0),\n",
        "            torch.nn.BatchNorm2d(64),\n",
        "            torch.nn.ReLU()\n",
        "        )\n",
        "        # set fully connected layer\n",
        "        self.mlp1 = torch.nn.Linear(2*2*64,100) # input dimension should match the output dimension from the previous layer\n",
        "        # final output is of dimension 10 since\n",
        "        # MNIST is a 10-class classification dataset\n",
        "        self.mlp2 = torch.nn.Linear(100,10)\n",
        "\n",
        "    # feedforward\n",
        "    def forward(self,x):\n",
        "        x = self.conv1(x)\n",
        "        x = self.conv2(x)\n",
        "        x = self.conv3(x)\n",
        "        x = self.conv4(x)\n",
        "        # flatten tensor to 1-D\n",
        "        x = self.mlp1(x.view(x.size(0),-1))\n",
        "        x = self.mlp2(x)\n",
        "        return x"
      ]
    },
    {
      "cell_type": "markdown",
      "metadata": {
        "id": "bsGqOf9mk6yR"
      },
      "source": [
        "## Training function\n",
        "The training process includes loading the model, setting the optimizer, and running on the training set for epochs.\n",
        "After each training epoch, we evaluate the model on the test set to record the test accuracy."
      ]
    },
    {
      "cell_type": "code",
      "execution_count": 5,
      "metadata": {
        "id": "tHe1PyUucZGp"
      },
      "outputs": [],
      "source": [
        "def train(model, train_epoch, model_save, train_loader, test_loader) :\n",
        "    # Push model on to GPU if available\n",
        "    device = torch.device('cuda' if torch.cuda.is_available() else 'cpu')\n",
        "    model.to(device)\n",
        "\n",
        "    loss_func = nn.CrossEntropyLoss( )\n",
        "    # Use Adam optimizer\n",
        "    optimizer = torch.optim.Adam(model.parameters( ),lr=0.001)\n",
        "\n",
        "    acc_count = []  # record the test accuracy\n",
        "    for epoch in range(train_epoch):\n",
        "\n",
        "        model.train()\n",
        "\n",
        "        for i, (x, y) in enumerate(train_loader):\n",
        "            x = x.to(device)  # torch,Size([128,1,28,28])\n",
        "            y = y.to(device)   # torch.Size([128])\n",
        "            # Output of the model\n",
        "            out = model(x)  # torch.Size([128,10])\n",
        "            # Compute loss\n",
        "            loss = loss_func(out, y)\n",
        "\n",
        "            optimizer.zero_grad()\n",
        "            loss.backward()  # backpropagation\n",
        "            optimizer.step()  # update the network parameters\n",
        "\n",
        "            # save the model checkpoint every 20 iterations\n",
        "            if i % 20 == 0:\n",
        "                print('Training Loss:{:.6f} Batch {}/{} '.format(loss.item(), i, len(train_loader)))\n",
        "                torch.save(model, model_save)\n",
        "\n",
        "        # evaluate the model after each training epoch\n",
        "        with torch.no_grad():\n",
        "            model.eval()\n",
        "\n",
        "            true_pred = torch.zeros(1).to(device)\n",
        "            nb_sample = 0\n",
        "\n",
        "            for inputs, targets in test_loader:\n",
        "                inputs = inputs.to(device)\n",
        "                targets = targets.to(device)\n",
        "                outputs = model(inputs)\n",
        "\n",
        "                _, pred = torch.max(outputs, dim=1)\n",
        "\n",
        "                true_pred = true_pred + torch.sum(pred == targets).type(torch.FloatTensor)\n",
        "                nb_sample += len(inputs)\n",
        "\n",
        "            acc = true_pred / nb_sample\n",
        "            acc = acc.item()\n",
        "\n",
        "            acc_count.append(acc)\n",
        "\n",
        "            print('Epoch {:d}, Test Accuracy {:.3f} %'.format(epoch, acc * 100))\n",
        "\n",
        "    return acc_count"
      ]
    },
    {
      "cell_type": "markdown",
      "metadata": {
        "id": "fqXo_JIWla_l"
      },
      "source": [
        "## Let's start training!\n",
        "The network is trained for 20 epochs, batch size of 100.\n",
        "\n",
        "You can adjust the hyperparameters here if necessary."
      ]
    },
    {
      "cell_type": "code",
      "execution_count": 8,
      "metadata": {
        "id": "cMjq_kz8guO_"
      },
      "outputs": [],
      "source": [
        "# You can adjust the hyperparameters here if needed\n",
        "train_epoch = 20\n",
        "batch_size = 100\n",
        "shuffle = True\n",
        "\n",
        "# Define model\n",
        "model = CNNnet()\n",
        "\n",
        "# where to save the model\n",
        "model_save = './models/MNIST_CNN/ckpt.pth'\n",
        "\n",
        "import os\n",
        "if not os.path.exists('./models/MNIST_CNN'):\n",
        "    os.mkdir('./models/MNIST_CNN')"
      ]
    },
    {
      "cell_type": "code",
      "execution_count": 9,
      "metadata": {
        "id": "yhijmumReHXc"
      },
      "outputs": [
        {
          "name": "stdout",
          "output_type": "stream",
          "text": [
            "Training Loss:2.339047 Batch 0/100 \n",
            "Training Loss:0.900196 Batch 20/100 \n",
            "Training Loss:0.446998 Batch 40/100 \n",
            "Training Loss:0.221347 Batch 60/100 \n",
            "Training Loss:0.257982 Batch 80/100 \n",
            "Epoch 0, Test Accuracy 95.850 %\n",
            "Training Loss:0.167007 Batch 0/100 \n",
            "Training Loss:0.083705 Batch 20/100 \n",
            "Training Loss:0.114529 Batch 40/100 \n",
            "Training Loss:0.214635 Batch 60/100 \n",
            "Training Loss:0.129861 Batch 80/100 \n",
            "Epoch 1, Test Accuracy 96.900 %\n",
            "Training Loss:0.088429 Batch 0/100 \n",
            "Training Loss:0.156667 Batch 20/100 \n",
            "Training Loss:0.056800 Batch 40/100 \n",
            "Training Loss:0.038717 Batch 60/100 \n",
            "Training Loss:0.044581 Batch 80/100 \n",
            "Epoch 2, Test Accuracy 97.500 %\n",
            "Training Loss:0.021972 Batch 0/100 \n",
            "Training Loss:0.041766 Batch 20/100 \n",
            "Training Loss:0.063111 Batch 40/100 \n",
            "Training Loss:0.083476 Batch 60/100 \n",
            "Training Loss:0.029954 Batch 80/100 \n",
            "Epoch 3, Test Accuracy 97.450 %\n",
            "Training Loss:0.062125 Batch 0/100 \n",
            "Training Loss:0.009255 Batch 20/100 \n",
            "Training Loss:0.015451 Batch 40/100 \n",
            "Training Loss:0.041707 Batch 60/100 \n",
            "Training Loss:0.019055 Batch 80/100 \n",
            "Epoch 4, Test Accuracy 98.250 %\n",
            "Training Loss:0.023836 Batch 0/100 \n",
            "Training Loss:0.012702 Batch 20/100 \n",
            "Training Loss:0.024415 Batch 40/100 \n",
            "Training Loss:0.024149 Batch 60/100 \n",
            "Training Loss:0.061508 Batch 80/100 \n",
            "Epoch 5, Test Accuracy 97.950 %\n",
            "Training Loss:0.029660 Batch 0/100 \n",
            "Training Loss:0.015919 Batch 20/100 \n",
            "Training Loss:0.009156 Batch 40/100 \n",
            "Training Loss:0.007766 Batch 60/100 \n",
            "Training Loss:0.015114 Batch 80/100 \n",
            "Epoch 6, Test Accuracy 98.050 %\n",
            "Training Loss:0.005015 Batch 0/100 \n",
            "Training Loss:0.001765 Batch 20/100 \n",
            "Training Loss:0.021572 Batch 40/100 \n",
            "Training Loss:0.005345 Batch 60/100 \n",
            "Training Loss:0.004949 Batch 80/100 \n",
            "Epoch 7, Test Accuracy 98.600 %\n",
            "Training Loss:0.002847 Batch 0/100 \n",
            "Training Loss:0.008120 Batch 20/100 \n",
            "Training Loss:0.002917 Batch 40/100 \n",
            "Training Loss:0.004298 Batch 60/100 \n",
            "Training Loss:0.004459 Batch 80/100 \n",
            "Epoch 8, Test Accuracy 97.600 %\n",
            "Training Loss:0.009165 Batch 0/100 \n",
            "Training Loss:0.002221 Batch 20/100 \n",
            "Training Loss:0.006226 Batch 40/100 \n",
            "Training Loss:0.006906 Batch 60/100 \n",
            "Training Loss:0.002750 Batch 80/100 \n",
            "Epoch 9, Test Accuracy 97.900 %\n",
            "Training Loss:0.000372 Batch 0/100 \n",
            "Training Loss:0.019414 Batch 20/100 \n",
            "Training Loss:0.006655 Batch 40/100 \n",
            "Training Loss:0.005775 Batch 60/100 \n",
            "Training Loss:0.001999 Batch 80/100 \n",
            "Epoch 10, Test Accuracy 98.000 %\n",
            "Training Loss:0.003755 Batch 0/100 \n",
            "Training Loss:0.006292 Batch 20/100 \n",
            "Training Loss:0.003543 Batch 40/100 \n",
            "Training Loss:0.013154 Batch 60/100 \n",
            "Training Loss:0.088883 Batch 80/100 \n",
            "Epoch 11, Test Accuracy 97.950 %\n",
            "Training Loss:0.045616 Batch 0/100 \n",
            "Training Loss:0.005565 Batch 20/100 \n",
            "Training Loss:0.026880 Batch 40/100 \n",
            "Training Loss:0.012476 Batch 60/100 \n",
            "Training Loss:0.011984 Batch 80/100 \n",
            "Epoch 12, Test Accuracy 97.750 %\n",
            "Training Loss:0.005710 Batch 0/100 \n",
            "Training Loss:0.008781 Batch 20/100 \n",
            "Training Loss:0.003270 Batch 40/100 \n",
            "Training Loss:0.003207 Batch 60/100 \n",
            "Training Loss:0.018687 Batch 80/100 \n",
            "Epoch 13, Test Accuracy 98.250 %\n",
            "Training Loss:0.008360 Batch 0/100 \n",
            "Training Loss:0.001190 Batch 20/100 \n",
            "Training Loss:0.001593 Batch 40/100 \n",
            "Training Loss:0.006091 Batch 60/100 \n",
            "Training Loss:0.000600 Batch 80/100 \n",
            "Epoch 14, Test Accuracy 98.100 %\n",
            "Training Loss:0.000891 Batch 0/100 \n",
            "Training Loss:0.002193 Batch 20/100 \n",
            "Training Loss:0.000489 Batch 40/100 \n",
            "Training Loss:0.000611 Batch 60/100 \n",
            "Training Loss:0.000895 Batch 80/100 \n",
            "Epoch 15, Test Accuracy 98.300 %\n",
            "Training Loss:0.000763 Batch 0/100 \n",
            "Training Loss:0.000346 Batch 20/100 \n",
            "Training Loss:0.001683 Batch 40/100 \n",
            "Training Loss:0.000538 Batch 60/100 \n",
            "Training Loss:0.001646 Batch 80/100 \n",
            "Epoch 16, Test Accuracy 98.650 %\n",
            "Training Loss:0.000310 Batch 0/100 \n",
            "Training Loss:0.000427 Batch 20/100 \n",
            "Training Loss:0.000353 Batch 40/100 \n",
            "Training Loss:0.000648 Batch 60/100 \n",
            "Training Loss:0.000485 Batch 80/100 \n",
            "Epoch 17, Test Accuracy 98.600 %\n",
            "Training Loss:0.000234 Batch 0/100 \n",
            "Training Loss:0.000358 Batch 20/100 \n",
            "Training Loss:0.000084 Batch 40/100 \n",
            "Training Loss:0.001094 Batch 60/100 \n",
            "Training Loss:0.000094 Batch 80/100 \n",
            "Epoch 18, Test Accuracy 98.550 %\n",
            "Training Loss:0.000220 Batch 0/100 \n",
            "Training Loss:0.000258 Batch 20/100 \n",
            "Training Loss:0.000161 Batch 40/100 \n",
            "Training Loss:0.000322 Batch 60/100 \n",
            "Training Loss:0.000258 Batch 80/100 \n",
            "Epoch 19, Test Accuracy 98.600 %\n"
          ]
        }
      ],
      "source": [
        "# load datasets\n",
        "train_loader, test_loader = get_mnist_loader(batch_size=batch_size)\n",
        "\n",
        "# train the model\n",
        "acc_count = train(model, train_epoch=train_epoch, model_save=model_save, train_loader=train_loader, test_loader=test_loader)"
      ]
    },
    {
      "cell_type": "code",
      "execution_count": 10,
      "metadata": {
        "id": "V4gtbMW6jBRC"
      },
      "outputs": [
        {
          "data": {
            "image/png": "[encoded data removed]",
            "text/plain": [
              "<Figure size 640x480 with 1 Axes>"
            ]
          },
          "metadata": {},
          "output_type": "display_data"
        }
      ],
      "source": [
        "# Plot the accuracy curves w.r.t. epochs\n",
        "plt.plot(acc_count, marker='.')\n",
        "plt.ylabel('Accuracy')\n",
        "plt.xlabel('Epochs')\n",
        "plt.title('Test Accuracy of CNN')\n",
        "plt.show()"
      ]
    },
    {
      "cell_type": "code",
      "execution_count": null,
      "metadata": {},
      "outputs": [],
      "source": []
    }
  ],
  "metadata": {
    "accelerator": "GPU",
    "colab": {
      "gpuType": "T4",
      "provenance": [],
      "toc_visible": true
    },
    "kernelspec": {
      "display_name": "Python 3",
      "name": "python3"
    },
    "language_info": {
      "codemirror_mode": {
        "name": "ipython",
        "version": 3
      },
      "file_extension": ".py",
      "mimetype": "text/x-python",
      "name": "python",
      "nbconvert_exporter": "python",
      "pygments_lexer": "ipython3",
      "version": "3.11.9"
    }
  },
  "nbformat": 4,
  "nbformat_minor": 0
}
