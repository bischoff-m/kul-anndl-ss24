{
  "cells": [
    {
      "cell_type": "markdown",
      "metadata": {
        "id": "G28ynkon-QY1"
      },
      "source": [
        "# Artificial Neural Networks and Deep Learning    \n",
        "## Assignment 3.1 - Autoencoders and Stacked Autoencoders\n",
        "\n",
        "Prof. Dr. Ir. Johan A. K. Suykens     \n",
        "\n",
        "In this file, we will implement two network architectures from scratch: (1) Autoencoders; (2) Stacked Autoencoders.\n",
        "\n",
        "We will train both networks on the MNIST dataset under reconstruction learning task. All training will be conducted on a single T4 GPU.\n"
      ]
    },
    {
      "cell_type": "code",
      "execution_count": null,
      "metadata": {
        "id": "EZHATEBH-INR"
      },
      "outputs": [],
      "source": [
        "# Please first load your google drive\n",
        "# from google.colab import drive\n",
        "# drive.mount('/content/drive')"
      ]
    },
    {
      "cell_type": "code",
      "execution_count": null,
      "metadata": {
        "id": "MnZZO_oOFpJP"
      },
      "outputs": [],
      "source": [
        "# Please go to Edit > Notebook settings > Hardware accelerator > choose \"T4 GPU\"\n",
        "# Now check if you have loaded the GPU successfully\n",
        "# !nvidia-smi"
      ]
    },
    {
      "cell_type": "markdown",
      "metadata": {
        "id": "504PW8Go_Bna"
      },
      "source": [
        "# Autoencoder\n",
        "In this section, we implement an Autoencoder from scratch and trainit on the MNIST dataset. With this autoencoder, we pass input data through an encoder making a compressed representation of the input, and then pass this representation to the following decoder to reconstruct the input data.\n",
        "Note that in this exercise session we will be using  ``PyTorch`` instead of ``Keras`` for building and training our neural networks.\n"
      ]
    },
    {
      "cell_type": "code",
      "execution_count": 1,
      "metadata": {
        "id": "eGwR7aL5_FSD"
      },
      "outputs": [],
      "source": [
        "from pathlib import Path\n",
        "import torch\n",
        "import numpy as np\n",
        "from torchvision import datasets\n",
        "import torchvision.transforms as transforms\n",
        "\n",
        "FIGURE_PATH = Path(\"../report/figures\")\n",
        "\n",
        "# Set the seed for reproducibility. Don't forget to comment out this line when averaging over different runs\n",
        "torch.manual_seed(42)\n",
        "\n",
        "# Convert data to torch.FloatTensor\n",
        "transform = transforms.ToTensor()\n",
        "\n",
        "\n",
        "train_data = datasets.MNIST(root='data', train=True, download=True, transform=transform)\n",
        "test_data = datasets.MNIST(root='data', train=False, download=True, transform=transform)\n",
        "\n",
        "# Select only a part of the dataset to speed up training times\n",
        "num_train_samples = 10000\n",
        "num_test_samples = 1000\n",
        "\n",
        "# Randomly select a subset of samples\n",
        "train_indices = torch.randperm(len(train_data))[:num_train_samples]\n",
        "test_indices = torch.randperm(len(test_data))[:num_test_samples]\n",
        "\n",
        "# Create subset samplers to be used in the dataloader\n",
        "train_subset_sampler = torch.utils.data.SubsetRandomSampler(train_indices)\n",
        "test_subset_sampler = torch.utils.data.SubsetRandomSampler(test_indices)\n",
        "\n"
      ]
    },
    {
      "cell_type": "markdown",
      "metadata": {
        "id": "5OxiS9KN9oQA"
      },
      "source": [
        "## Create training and test dataloaders\n",
        "\n",
        "\n",
        "Dataloaders are used for efficiently loading, batching, and managing datasets in PyTorch.\n",
        "During training dataloaders feed the data into the network batch by batch instead of the whole dataset at once. This allows us to handle larger datasets without running out of memory."
      ]
    },
    {
      "cell_type": "code",
      "execution_count": 2,
      "metadata": {
        "id": "Lig-NUzmAuiZ"
      },
      "outputs": [],
      "source": [
        "# Choose how many samples per batch to load\n",
        "# You can tune the batch size\n",
        "batch_size = 32\n",
        "\n",
        "# Prepare data loaders\n",
        "train_loader = torch.utils.data.DataLoader(train_data,\n",
        "                                           batch_size=batch_size,\n",
        "                                           sampler = train_subset_sampler,\n",
        "                                           num_workers=0)\n",
        "test_loader = torch.utils.data.DataLoader(test_data,\n",
        "                                          batch_size=batch_size,\n",
        "                                          sampler = test_subset_sampler,\n",
        "                                          num_workers=0)\n"
      ]
    },
    {
      "cell_type": "markdown",
      "metadata": {
        "id": "Wk4UCmCdBjjZ"
      },
      "source": [
        "## Visualize the data"
      ]
    },
    {
      "cell_type": "code",
      "execution_count": 3,
      "metadata": {
        "id": "3BeTdD4yBcl9"
      },
      "outputs": [
        {
          "data": {
            "text/plain": [
              "<matplotlib.image.AxesImage at 0x28bc6218ad0>"
            ]
          },
          "execution_count": 3,
          "metadata": {},
          "output_type": "execute_result"
        },
        {
          "data": {
            "image/png": "[encoded data removed]",
            "text/plain": [
              "<Figure size 500x500 with 1 Axes>"
            ]
          },
          "metadata": {},
          "output_type": "display_data"
        }
      ],
      "source": [
        "import matplotlib.pyplot as plt\n",
        "%matplotlib inline\n",
        "\n",
        "# Obtain one batch of training images\n",
        "images, labels = next(iter(train_loader)) # iter() creates an iterator over the batches in the dataloader and next() selects the next batch from this iterator.\n",
        "images = images.numpy() #.numpy() turns the torch.tensor into a numpy array\n",
        "\n",
        "# Get one image from the batch\n",
        "img = np.squeeze(images[0])\n",
        "\n",
        "fig = plt.figure(figsize = (5,5))\n",
        "ax = fig.add_subplot(111)\n",
        "ax.imshow(img, cmap='gray')"
      ]
    },
    {
      "cell_type": "markdown",
      "metadata": {
        "id": "LzWxOoXYCUiz"
      },
      "source": [
        "## Build the Linear Autoencoder\n",
        "We now train a linear autoencoder on MINIST dataset.\n",
        "Images of original size 28$\\times$28 will be flattened into 784-dimensional vectors.\n",
        "Note that images from this dataset are already normalized so that the values are between 0 and 1.\n",
        "Since the images are normalized between 0 and 1, we need to use a sigmoid activation on the output layer to get values that match this input value range.\n",
        "\n",
        "The encoder and decoder in the Autoencoder are built with one linear layer where you can tune the dimension of the hidden representation, i.e., ``encoding_dim``, to obtain models with different size."
      ]
    },
    {
      "cell_type": "code",
      "execution_count": 4,
      "metadata": {
        "id": "05JucJsoB6E-"
      },
      "outputs": [],
      "source": [
        "import torch.nn as nn\n",
        "import torch.nn.functional as F\n",
        "\n",
        "# Define the NN architecture\n",
        "class Autoencoder(nn.Module):\n",
        "    def __init__(self, encoding_dim):\n",
        "        super(Autoencoder, self).__init__()\n",
        "        # Encoder\n",
        "        self.encoder = nn.Linear(784, encoding_dim)\n",
        "        # Decoder\n",
        "        self.decoder = nn.Linear(encoding_dim, 784)\n",
        "\n",
        "    def forward(self, x):\n",
        "        # Define feedforward behavior\n",
        "        # and scale the *output* layer with a sigmoid activation function\n",
        "\n",
        "        # Pass x into encoder\n",
        "        out = F.relu(self.encoder(x))\n",
        "        # Pass out into decoder\n",
        "        out = torch.sigmoid(self.decoder(out))\n",
        "\n",
        "        return out"
      ]
    },
    {
      "cell_type": "code",
      "execution_count": 5,
      "metadata": {
        "id": "FtBYi-kACg1A"
      },
      "outputs": [
        {
          "name": "stdout",
          "output_type": "stream",
          "text": [
            "Autoencoder(\n",
            "  (encoder): Linear(in_features=784, out_features=32, bias=True)\n",
            "  (decoder): Linear(in_features=32, out_features=784, bias=True)\n",
            ")\n"
          ]
        }
      ],
      "source": [
        "# Initialize the NN\n",
        "# You can change the encoding_dim to obtain models with different size\n",
        "encoding_dim = 32\n",
        "model = Autoencoder(encoding_dim)\n",
        "\n",
        "# Send model to GPU if available\n",
        "if torch.cuda.is_available():\n",
        "  model.cuda()\n",
        "print(model)"
      ]
    },
    {
      "cell_type": "markdown",
      "metadata": {
        "id": "D6oAhmIwEDgo"
      },
      "source": [
        "## Training on MNIST\n",
        "Training a neural network in PyTorch involves manually defining the training loop.\n",
        "Here data processing, forward pass, loss computation, and optimization are explicitly specified.\n",
        "\n",
        "Since we work on reconstruction learning tasks, we do not need the labels here but only the images.\n",
        "The loss function should choose the MSE loss for reconstruction."
      ]
    },
    {
      "cell_type": "code",
      "execution_count": 6,
      "metadata": {
        "id": "ssUxyRJSEUzV"
      },
      "outputs": [
        {
          "name": "stdout",
          "output_type": "stream",
          "text": [
            "Epoch: 0 \tTraining Loss: 2.386593\n",
            "Epoch: 1 \tTraining Loss: 1.315528\n",
            "Epoch: 2 \tTraining Loss: 1.040680\n",
            "Epoch: 3 \tTraining Loss: 0.878057\n",
            "Epoch: 4 \tTraining Loss: 0.759522\n",
            "Epoch: 5 \tTraining Loss: 0.688439\n",
            "Epoch: 6 \tTraining Loss: 0.636693\n",
            "Epoch: 7 \tTraining Loss: 0.597742\n",
            "Epoch: 8 \tTraining Loss: 0.568476\n",
            "Epoch: 9 \tTraining Loss: 0.546332\n",
            "Epoch: 10 \tTraining Loss: 0.530176\n",
            "Epoch: 11 \tTraining Loss: 0.518377\n",
            "Epoch: 12 \tTraining Loss: 0.509132\n",
            "Epoch: 13 \tTraining Loss: 0.501971\n",
            "Epoch: 14 \tTraining Loss: 0.495893\n",
            "Epoch: 15 \tTraining Loss: 0.491787\n",
            "Epoch: 16 \tTraining Loss: 0.488524\n",
            "Epoch: 17 \tTraining Loss: 0.485783\n",
            "Epoch: 18 \tTraining Loss: 0.483460\n",
            "Epoch: 19 \tTraining Loss: 0.480828\n"
          ]
        }
      ],
      "source": [
        "# Specify the loss function\n",
        "criterion = nn.MSELoss()\n",
        "\n",
        "# We use Adam as the optimizer with a fixed learning rate of 1e-3\n",
        "optimizer = torch.optim.Adam(model.parameters(), lr=0.001)\n",
        "\n",
        "# Choose the number of Epochs to train the network\n",
        "n_epochs = 20\n",
        "# Set model to training mode\n",
        "model.train()\n",
        "\n",
        "for epoch in range(n_epochs):\n",
        "    # Monitor training loss\n",
        "    train_loss = 0.0\n",
        "\n",
        "    # Train the model #\n",
        "    # Feed the data into the network batch by batch using the dataloader\n",
        "    for batch_data in train_loader:\n",
        "        # _ stands in for labels\n",
        "        # we do not need labels when conducting reconstruction\n",
        "        images, _ = batch_data\n",
        "        # Flatten images and send images to GPU\n",
        "        images = images.view(images.size(0), -1)\n",
        "        # Send images to GPU if possible\n",
        "        if torch.cuda.is_available():\n",
        "          images = images.cuda()\n",
        "        # Clear the gradients of all optimized variables\n",
        "        optimizer.zero_grad()\n",
        "        # Forward pass: compute predicted outputs by passing inputs to the model\n",
        "        outputs = model(images)\n",
        "        # Calculate the loss between output and input images\n",
        "        loss = criterion(outputs, images)\n",
        "        # Backward pass: compute gradient of the loss with respect to model parameters\n",
        "        loss.backward()\n",
        "        # Perform a single optimization step (parameter update)\n",
        "        optimizer.step()\n",
        "        # Update running training loss\n",
        "        train_loss += loss.item()*images.size(0)\n",
        "\n",
        "    # Print avg training statistics\n",
        "    train_loss = train_loss/len(train_loader)\n",
        "    print('Epoch: {} \\tTraining Loss: {:.6f}'.format(\n",
        "        epoch,\n",
        "        train_loss\n",
        "        ))\n",
        "\n",
        "\n"
      ]
    },
    {
      "cell_type": "markdown",
      "metadata": {
        "id": "JeN_f28fJ1lq"
      },
      "source": [
        "## Evaluation on test set\n",
        "We now evaluate the reconstruction results on the unseen test set.\n",
        "We plot the original test images and their corresponding reconstruction ones."
      ]
    },
    {
      "cell_type": "code",
      "execution_count": 7,
      "metadata": {
        "id": "daly1tTfbbXk"
      },
      "outputs": [
        {
          "name": "stdout",
          "output_type": "stream",
          "text": [
            "Test Loss: 0.001470\n"
          ]
        }
      ],
      "source": [
        "# Set model to evaluation mode\n",
        "model.eval()\n",
        "\n",
        "# Monitor test loss\n",
        "test_loss = 0.0\n",
        "\n",
        "# Disable gradient computation\n",
        "with torch.no_grad():\n",
        "    # Iterate over the test data\n",
        "    for batch_data in test_loader:\n",
        "        # Extract images from the batch\n",
        "        images, _ = batch_data\n",
        "        # Flatten images and send them to GPU\n",
        "        images = images.view(images.size(0), -1)\n",
        "        # Send to GPU\n",
        "        if torch.cuda.is_available():\n",
        "          images = images.cuda()\n",
        "        # Forward pass: compute predicted outputs by passing inputs to the model\n",
        "        outputs = model(images)\n",
        "        # Calculate the loss between output and input images\n",
        "        loss = criterion(outputs, images)\n",
        "        # Update test loss\n",
        "        test_loss += loss.item()*images.size(0)\n",
        "\n",
        "# Compute average test loss\n",
        "test_loss = test_loss/len(test_loader.dataset)\n",
        "\n",
        "# Print test loss\n",
        "print('Test Loss: {:.6f}'.format(test_loss))"
      ]
    },
    {
      "cell_type": "code",
      "execution_count": 8,
      "metadata": {
        "id": "gemBn0ihG2Yo"
      },
      "outputs": [
        {
          "data": {
            "image/png": "[encoded data removed]",
            "text/plain": [
              "<Figure size 2500x400 with 20 Axes>"
            ]
          },
          "metadata": {},
          "output_type": "display_data"
        }
      ],
      "source": [
        "# Obtain one batch of test images\n",
        "test_images, test_labels = next(iter(test_loader))\n",
        "\n",
        "test_images_flatten = test_images.view(test_images.size(0), -1)\n",
        "# Set model to evaluation mode\n",
        "model.eval()\n",
        "# Send model back to CPU\n",
        "model.cpu()\n",
        "# Get sample outputs\n",
        "output = model(test_images_flatten)\n",
        "# Prep images for display\n",
        "test_images = test_images.numpy()\n",
        "\n",
        "# Output is resized into a batch of images\n",
        "output = output.view(batch_size, 1, 28, 28)\n",
        "# Use detach when it's an output that requires_grad\n",
        "output = output.detach().numpy()\n",
        "\n",
        "# Plot the first ten input images and then reconstructed images\n",
        "fig, axes = plt.subplots(nrows=2, ncols=10, sharex=True, sharey=True, figsize=(25,4))\n",
        "\n",
        "# Input images on top row, reconstructions on bottom\n",
        "for test_images, row in zip([test_images, output], axes):\n",
        "    for img, ax in zip(test_images, row):\n",
        "        ax.imshow(np.squeeze(img), cmap='gray')\n",
        "        ax.get_xaxis().set_visible(False)\n",
        "        ax.get_yaxis().set_visible(False)"
      ]
    },
    {
      "cell_type": "markdown",
      "metadata": {
        "id": "nVYXhsPrLBrV"
      },
      "source": [
        "# Stacked Autoencoder\n",
        "In this section, we implement the Stacked Autoencoder from scratch and train it on the MNIST dataset.\n",
        "The training process is with two steps: (1) each layer is trained separately; (2) the network is trained as a whole.\n",
        "\n",
        "We first load the dataset as follows:"
      ]
    },
    {
      "cell_type": "code",
      "execution_count": 3,
      "metadata": {
        "id": "8163o-y3SLfw"
      },
      "outputs": [],
      "source": [
        "import torch\n",
        "from torch import nn, optim, functional, utils\n",
        "\n",
        "from torch.nn import BCELoss, init\n",
        "from torch.utils.data.dataloader import DataLoader\n",
        "import torchvision\n",
        "from torchvision import datasets, utils\n",
        "import torchvision.transforms as transforms\n",
        "from torchvision.datasets import MNIST\n",
        "\n",
        "import time, os\n",
        "\n",
        "# We automate the dataloading process for future use\n",
        "def get_mnist_loader(batch_size=32, num_train_samples = 6000, num_test_samples = 1000):\n",
        "\t\t\"\"\"\n",
        "\n",
        "    :return: train_loader, test_loader\n",
        "    \"\"\"\n",
        "\n",
        "\t\ttransform = transforms.Compose([\n",
        "\t\ttransforms.ToTensor(),  # Convert image to PyTorch tensor\n",
        "\t\ttransforms.Normalize((0.0,), (1.0,))  # Normalize the tensor with mean 0 and standard deviation 1\n",
        "\t\t])\n",
        "\t\ttrain_dataset = MNIST(root='../data',\n",
        "\t\t\t\t\t\t\t\t\t\t\t\t\ttrain=True,\n",
        "\t\t\t\t\t\t\t\t\t\t\t\t\ttransform=transform,\n",
        "\t\t\t\t\t\t\t\t\t\t\t\t\tdownload=True)\n",
        "\t\ttest_dataset = MNIST(root='../data',\n",
        "\t\t\t\t\t\t\t\t\t\t\t\t\ttrain=False,\n",
        "\t\t\t\t\t\t\t\t\t\t\t\t\ttransform=transform,\n",
        "\t\t\t\t\t\t\t\t\t\t\t\t\tdownload=True)\n",
        "\n",
        "\t\t# Randomly select a subset of samples\n",
        "\t\ttrain_indices = torch.randperm(len(train_dataset))[:num_train_samples]\n",
        "\t\ttest_indices = torch.randperm(len(test_dataset))[:num_test_samples]\n",
        "\n",
        "\t\t# Create subset samplers to be used in the dataloader\n",
        "\t\ttrain_subset_sampler = torch.utils.data.SubsetRandomSampler(train_indices)\n",
        "\t\ttest_subset_sampler = torch.utils.data.SubsetRandomSampler(test_indices)\n",
        "\n",
        "\t\ttrain_loader = torch.utils.data.DataLoader(dataset=train_dataset,\n",
        "\t\t\t\t\t\t\t\t\t\t\t\t\t\t\t\t\t\t\t\t\t\t\t\tbatch_size=batch_size,\n",
        "\t\t\t\t\t\t\t\t\t\t\t\t\t\t\t\t\t\t\t\t\t\t\t\tsampler = train_subset_sampler)\n",
        "\t\ttest_loader = torch.utils.data.DataLoader(dataset=test_dataset,\n",
        "\t\t\t\t\t\t\t\t\t\t\t\t\t\t\t\t\t\t\t\t\t\t\tbatch_size=batch_size,\n",
        "\t\t\t\t\t\t\t\t\t\t\t\t\t\t\t\t\t\t\t\t\t\t\tsampler = test_subset_sampler)\n",
        "\t\treturn train_loader, test_loader"
      ]
    },
    {
      "cell_type": "markdown",
      "metadata": {
        "id": "8GimciNoQI73"
      },
      "source": [
        "## Build the Stacked Autoencoder\n",
        "Before building the Stacked Autoencoder, we need to build the Autoencoder layer first."
      ]
    },
    {
      "cell_type": "code",
      "execution_count": 10,
      "metadata": {
        "id": "TNjUD_jNLDN3"
      },
      "outputs": [],
      "source": [
        "class AutoEncoderLayer(nn.Module):\n",
        "    \"\"\"\n",
        "    fully-connected linear layers for stacked autoencoders.\n",
        "    This module can automatically be trained when training each layer is enabled\n",
        "    Yes, this is much like the simplest auto-encoder\n",
        "    \"\"\"\n",
        "\n",
        "    def __init__(self, input_dim=None, hidden_dim=None, SelfTraining=False):\n",
        "        super(AutoEncoderLayer, self).__init__()\n",
        "        # If input_dim is None or hidden_dim is None:\n",
        "        # raise ValueError\n",
        "        self.in_features = input_dim\n",
        "        self.out_features = hidden_dim\n",
        "        # Whether to conduct layer-by-layer pre-training, or train the entire network\n",
        "        self.is_training_self = SelfTraining\n",
        "        self.encoder = nn.Sequential(\n",
        "            nn.Linear(self.in_features, self.out_features, bias=True),\n",
        "            nn.Sigmoid(),  # use Sigmoid activation function\n",
        "        )\n",
        "        self.decoder = nn.Sequential(\n",
        "            nn.Linear(self.out_features, self.in_features, bias=True), nn.Sigmoid()\n",
        "        )\n",
        "        # self._initialize_weights()\n",
        "\n",
        "    def forward(self, x):\n",
        "        out = self.encoder(x)\n",
        "        if self.is_training_self:\n",
        "            return self.decoder(\n",
        "                out\n",
        "            )  # If the layer is not in training mode, it will just encode the data and pass it through\n",
        "        else:\n",
        "            return out\n",
        "\n",
        "    def lock_grad(self):\n",
        "        for param in self.parameters():\n",
        "            param.requires_grad = False\n",
        "\n",
        "    def acquire_grad(self):\n",
        "        for param in self.parameters():\n",
        "            param.requires_grad = True\n",
        "\n",
        "    @property\n",
        "    def input_dim(self):\n",
        "        return self.in_features\n",
        "\n",
        "    @property\n",
        "    def output_dim(self):\n",
        "        return self.out_features\n",
        "\n",
        "    @property\n",
        "    def is_training_layer(self):\n",
        "        return self.is_training_self\n",
        "\n",
        "    @is_training_layer.setter\n",
        "    def is_training_layer(self, other: bool):\n",
        "        self.is_training_self = other"
      ]
    },
    {
      "cell_type": "markdown",
      "metadata": {
        "id": "CxT2upS1Aee6"
      },
      "source": [
        "## Build the stacked autoencoder\n",
        "\n",
        "Here we stack the autoencoder layers together and add a classification layer at the end"
      ]
    },
    {
      "cell_type": "code",
      "execution_count": 11,
      "metadata": {
        "id": "dw1r8BdBpO5f"
      },
      "outputs": [],
      "source": [
        "class StackedAutoEncoderClassifier(nn.Module):\n",
        "    \"\"\"\n",
        "    Stack the trained autoencoder layers and add a classification layer at the end\n",
        "    \"\"\"\n",
        "\n",
        "    def __init__(self, autoencoder_list=None, num_classes=10):\n",
        "        super(StackedAutoEncoderClassifier, self).__init__()\n",
        "        # Use only the encoder parts of the autoencoders\n",
        "        self.encoder_layers = nn.ModuleList([autoencoder.encoder for autoencoder in autoencoder_list])\n",
        "        self.num_classes = num_classes\n",
        "\n",
        "        # Classification layer\n",
        "        self.classification_layer = nn.Linear(autoencoder_list[-1].out_features, num_classes)\n",
        "\n",
        "    def forward(self, x):\n",
        "        encoded_representation = x\n",
        "        for layer in self.encoder_layers:\n",
        "            encoded_representation = layer(encoded_representation)\n",
        "\n",
        "        # Classification layer\n",
        "        output = self.classification_layer(encoded_representation)\n",
        "        return output\n"
      ]
    },
    {
      "cell_type": "markdown",
      "metadata": {
        "id": "1UQL0TzMRxc3"
      },
      "source": [
        "## The training function of each layer\n",
        "We need to freeze the parameters in the previous layers when training the current layer."
      ]
    },
    {
      "cell_type": "code",
      "execution_count": 39,
      "metadata": {
        "id": "pvZYBFsGRsmg"
      },
      "outputs": [],
      "source": [
        "def train_layer(layers_list=None, layer=None, epochs=None, validate=True, batch_size = 128, losses=[]):\n",
        "    \"\"\"\n",
        "    Greedy layer-wise training: when training the i-th layer, freeze the i-1 layer\n",
        "    :param layers_list:\n",
        "    :param layer:\n",
        "    :param epoch:\n",
        "    :return:\n",
        "    \"\"\"\n",
        "    if torch.cuda.is_available():\n",
        "        for model in layers_list:\n",
        "            model.cuda()\n",
        "\n",
        "    train_loader, test_loader = get_mnist_loader(batch_size=batch_size)\n",
        "    optimizer = optim.SGD(layers_list[layer].parameters(), lr=0.1)\n",
        "    criterion = torch.nn.MSELoss()\n",
        "\n",
        "    # Train\n",
        "    for epoch_index in range(epochs):\n",
        "        sum_loss = 0.\n",
        "\n",
        "        # Freeze the parameters of all layers before the current layer\n",
        "        # Layer 0 has no previous layer\n",
        "        if layer != 0:\n",
        "            for index in range(layer):\n",
        "                # In addition to freezing parameters\n",
        "                # the output return method of the frozen layer must also be set.\n",
        "                layers_list[index].lock_grad()\n",
        "                layers_list[index].is_training_layer = False\n",
        "\n",
        "        for batch_index, (train_data, _) in enumerate(train_loader):\n",
        "            # Generate input data\n",
        "            if torch.cuda.is_available():\n",
        "                train_data = train_data.cuda()  # Put data onto GPU\n",
        "            out = train_data.view(train_data.size(0), -1)\n",
        "\n",
        "            # Perform forward calculation on the frozen layers before (layer-1)-th layer\n",
        "            if layer != 0:\n",
        "                for l in range(layer):\n",
        "                    out = layers_list[l](out)\n",
        "\n",
        "            # Train the layer-th layer\n",
        "            pred = layers_list[layer](out)\n",
        "\n",
        "            optimizer.zero_grad()\n",
        "            loss = criterion(pred, out)\n",
        "            sum_loss += loss\n",
        "            loss.backward()\n",
        "            optimizer.step()\n",
        "            #if (batch_index + 1) % 20 == 0:\n",
        "        print(\"Train Layer: {}, Epoch: {}/{}, Iter: {}/{}, Loss: {:.4f}\".format(\n",
        "            layer, (epoch_index + 1), epochs, (batch_index + 1), len(train_loader), loss))\n",
        "        losses.append(loss)\n",
        "\n",
        "        if validate:\n",
        "            pass"
      ]
    },
    {
      "cell_type": "markdown",
      "metadata": {
        "id": "fzOYc3BWx1WY"
      },
      "source": [
        "## The training function of the whole network\n",
        "Now we unfreeze all the parameters in the network that are previously frozen for the layer training."
      ]
    },
    {
      "cell_type": "code",
      "execution_count": 40,
      "metadata": {
        "id": "LaK2zTZd2Z5Z"
      },
      "outputs": [],
      "source": [
        "def train_classifier(model=None, epochs=20, fine_tuning = False, batch_size = 128, losses=[]):\n",
        "\n",
        "    print(\">> start training whole model\")\n",
        "    if torch.cuda.is_available():\n",
        "        model.cuda()\n",
        "\n",
        "    # unfreeze the parameters frozen in pre-training if needed\n",
        "    if fine_tuning:\n",
        "      for param in model.parameters():\n",
        "          param.requires_grad = True\n",
        "      training_phase = 'Fine-Tuning'\n",
        "    else:\n",
        "      training_phase = 'Classifier'\n",
        "\n",
        "    train_loader, test_loader = get_mnist_loader(batch_size=batch_size)\n",
        "    optimizer = optim.SGD(model.parameters(), lr=1)\n",
        "    criterion = nn.CrossEntropyLoss()\n",
        "\n",
        "    # Set the model to training mode\n",
        "    model.train()\n",
        "\n",
        "    # train\n",
        "    for epoch_index in range(epochs):\n",
        "        sum_loss = 0.\n",
        "        for batch_index, (train_data, train_labels) in enumerate(train_loader):\n",
        "            if torch.cuda.is_available():\n",
        "                train_data, train_labels = train_data.cuda(), train_labels.cuda()\n",
        "            x = train_data.view(train_data.size(0), -1)\n",
        "\n",
        "            predicted_labels = model(x)\n",
        "\n",
        "            optimizer.zero_grad()\n",
        "            loss = criterion(predicted_labels, train_labels)\n",
        "            sum_loss += loss\n",
        "            loss.backward()\n",
        "            optimizer.step()\n",
        "\n",
        "        print(\"Train {}, Epoch: {}/{}, Iter: {}/{}, Loss: {:.4f}\".format(training_phase, (epoch_index + 1), epochs, (batch_index + 1), len(train_loader), loss))\n",
        "        losses.append(loss)\n",
        "        \n",
        "    print(\"<< end training whole model\")\n",
        "    print(\"Calculating accuracy on the whole test set\")\n",
        "\n",
        "    # Set model to evaluation mode\n",
        "    model.eval()\n",
        "\n",
        "    # Calculate accuracy on the test set\n",
        "    total_correct = 0\n",
        "    total_samples = 0\n",
        "    with torch.no_grad():\n",
        "        for batch_data in test_loader:\n",
        "            images, labels = batch_data\n",
        "            images = images.view(images.size(0), -1)\n",
        "            if torch.cuda.is_available():\n",
        "              images, labels = images.cuda(), labels.cuda()\n",
        "            outputs = model(images)\n",
        "            # Get the highest value for each point to get the label\n",
        "            _, predicted_labels = torch.max(outputs.data, 1)\n",
        "            # Count number of correct predictions in the batch\n",
        "            total_correct += (predicted_labels == labels).sum().item()\n",
        "            total_samples += labels.size(0)\n",
        "\n",
        "\n",
        "    # Compute average test loss\n",
        "    accuracy = total_correct / total_samples\n",
        "    print('Accuracy on the test set: {:.6f}'.format(accuracy))\n",
        "    return model, accuracy\n"
      ]
    },
    {
      "cell_type": "markdown",
      "metadata": {
        "id": "bkccSfRJx4ah"
      },
      "source": [
        "## Let's start training!\n",
        "The default network is trained with layer epochs 10, classifier epochs 10, fine-tuning epochs 20, batch size of 128. You can try to change the hyper-parameters to obtain better reconstruction performance."
      ]
    },
    {
      "cell_type": "code",
      "execution_count": 54,
      "metadata": {
        "id": "zm44Cap4T7oS"
      },
      "outputs": [],
      "source": [
        "# You can change the hyper-parameters here\n",
        "# Be sure to try out different combinations of epochs for the pretraining and fine-tuning\n",
        "num_layer_wise_epochs = 20\n",
        "num_classifier_epochs = 30\n",
        "num_finetuning_epochs = 50\n",
        "batch_size = 128"
      ]
    },
    {
      "cell_type": "code",
      "execution_count": 61,
      "metadata": {
        "id": "M6N2XhTqT_-X"
      },
      "outputs": [
        {
          "name": "stdout",
          "output_type": "stream",
          "text": [
            "Train Layer: 0, Epoch: 1/20, Iter: 47/47, Loss: 0.2233\n",
            "Train Layer: 0, Epoch: 2/20, Iter: 47/47, Loss: 0.2088\n",
            "Train Layer: 0, Epoch: 3/20, Iter: 47/47, Loss: 0.1963\n",
            "Train Layer: 0, Epoch: 4/20, Iter: 47/47, Loss: 0.1839\n",
            "Train Layer: 0, Epoch: 5/20, Iter: 47/47, Loss: 0.1737\n",
            "Train Layer: 0, Epoch: 6/20, Iter: 47/47, Loss: 0.1638\n",
            "Train Layer: 0, Epoch: 7/20, Iter: 47/47, Loss: 0.1548\n",
            "Train Layer: 0, Epoch: 8/20, Iter: 47/47, Loss: 0.1467\n",
            "Train Layer: 0, Epoch: 9/20, Iter: 47/47, Loss: 0.1395\n",
            "Train Layer: 0, Epoch: 10/20, Iter: 47/47, Loss: 0.1321\n",
            "Train Layer: 0, Epoch: 11/20, Iter: 47/47, Loss: 0.1267\n",
            "Train Layer: 0, Epoch: 12/20, Iter: 47/47, Loss: 0.1227\n",
            "Train Layer: 0, Epoch: 13/20, Iter: 47/47, Loss: 0.1167\n",
            "Train Layer: 0, Epoch: 14/20, Iter: 47/47, Loss: 0.1121\n",
            "Train Layer: 0, Epoch: 15/20, Iter: 47/47, Loss: 0.1095\n",
            "Train Layer: 0, Epoch: 16/20, Iter: 47/47, Loss: 0.1054\n",
            "Train Layer: 0, Epoch: 17/20, Iter: 47/47, Loss: 0.1017\n",
            "Train Layer: 0, Epoch: 18/20, Iter: 47/47, Loss: 0.0990\n",
            "Train Layer: 0, Epoch: 19/20, Iter: 47/47, Loss: 0.0993\n",
            "Train Layer: 0, Epoch: 20/20, Iter: 47/47, Loss: 0.0952\n",
            "Train Layer: 1, Epoch: 1/20, Iter: 47/47, Loss: 0.0142\n",
            "Train Layer: 1, Epoch: 2/20, Iter: 47/47, Loss: 0.0126\n",
            "Train Layer: 1, Epoch: 3/20, Iter: 47/47, Loss: 0.0114\n",
            "Train Layer: 1, Epoch: 4/20, Iter: 47/47, Loss: 0.0104\n",
            "Train Layer: 1, Epoch: 5/20, Iter: 47/47, Loss: 0.0102\n",
            "Train Layer: 1, Epoch: 6/20, Iter: 47/47, Loss: 0.0097\n",
            "Train Layer: 1, Epoch: 7/20, Iter: 47/47, Loss: 0.0089\n",
            "Train Layer: 1, Epoch: 8/20, Iter: 47/47, Loss: 0.0087\n",
            "Train Layer: 1, Epoch: 9/20, Iter: 47/47, Loss: 0.0083\n",
            "Train Layer: 1, Epoch: 10/20, Iter: 47/47, Loss: 0.0070\n",
            "Train Layer: 1, Epoch: 11/20, Iter: 47/47, Loss: 0.0072\n",
            "Train Layer: 1, Epoch: 12/20, Iter: 47/47, Loss: 0.0070\n",
            "Train Layer: 1, Epoch: 13/20, Iter: 47/47, Loss: 0.0066\n",
            "Train Layer: 1, Epoch: 14/20, Iter: 47/47, Loss: 0.0059\n",
            "Train Layer: 1, Epoch: 15/20, Iter: 47/47, Loss: 0.0056\n",
            "Train Layer: 1, Epoch: 16/20, Iter: 47/47, Loss: 0.0052\n",
            "Train Layer: 1, Epoch: 17/20, Iter: 47/47, Loss: 0.0050\n",
            "Train Layer: 1, Epoch: 18/20, Iter: 47/47, Loss: 0.0046\n",
            "Train Layer: 1, Epoch: 19/20, Iter: 47/47, Loss: 0.0049\n",
            "Train Layer: 1, Epoch: 20/20, Iter: 47/47, Loss: 0.0045\n",
            "StackedAutoEncoderClassifier(\n",
            "  (encoder_layers): ModuleList(\n",
            "    (0): Sequential(\n",
            "      (0): Linear(in_features=784, out_features=256, bias=True)\n",
            "      (1): Sigmoid()\n",
            "    )\n",
            "    (1): Sequential(\n",
            "      (0): Linear(in_features=256, out_features=64, bias=True)\n",
            "      (1): Sigmoid()\n",
            "    )\n",
            "  )\n",
            "  (classification_layer): Linear(in_features=64, out_features=10, bias=True)\n",
            ")\n",
            ">> start training whole model\n",
            "Train Classifier, Epoch: 1/30, Iter: 47/47, Loss: 2.3005\n",
            "Train Classifier, Epoch: 2/30, Iter: 47/47, Loss: 2.3208\n",
            "Train Classifier, Epoch: 3/30, Iter: 47/47, Loss: 2.2674\n",
            "Train Classifier, Epoch: 4/30, Iter: 47/47, Loss: 2.2665\n",
            "Train Classifier, Epoch: 5/30, Iter: 47/47, Loss: 2.2835\n",
            "Train Classifier, Epoch: 6/30, Iter: 47/47, Loss: 2.2717\n",
            "Train Classifier, Epoch: 7/30, Iter: 47/47, Loss: 2.1784\n",
            "Train Classifier, Epoch: 8/30, Iter: 47/47, Loss: 2.1750\n",
            "Train Classifier, Epoch: 9/30, Iter: 47/47, Loss: 2.2145\n",
            "Train Classifier, Epoch: 10/30, Iter: 47/47, Loss: 2.2052\n",
            "Train Classifier, Epoch: 11/30, Iter: 47/47, Loss: 2.3501\n",
            "Train Classifier, Epoch: 12/30, Iter: 47/47, Loss: 2.3876\n",
            "Train Classifier, Epoch: 13/30, Iter: 47/47, Loss: 2.1956\n",
            "Train Classifier, Epoch: 14/30, Iter: 47/47, Loss: 2.0339\n",
            "Train Classifier, Epoch: 15/30, Iter: 47/47, Loss: 1.8971\n",
            "Train Classifier, Epoch: 16/30, Iter: 47/47, Loss: 2.2693\n",
            "Train Classifier, Epoch: 17/30, Iter: 47/47, Loss: 2.3010\n",
            "Train Classifier, Epoch: 18/30, Iter: 47/47, Loss: 2.0104\n",
            "Train Classifier, Epoch: 19/30, Iter: 47/47, Loss: 2.0698\n",
            "Train Classifier, Epoch: 20/30, Iter: 47/47, Loss: 2.1757\n",
            "Train Classifier, Epoch: 21/30, Iter: 47/47, Loss: 2.6626\n",
            "Train Classifier, Epoch: 22/30, Iter: 47/47, Loss: 2.0460\n",
            "Train Classifier, Epoch: 23/30, Iter: 47/47, Loss: 1.8976\n",
            "Train Classifier, Epoch: 24/30, Iter: 47/47, Loss: 1.9557\n",
            "Train Classifier, Epoch: 25/30, Iter: 47/47, Loss: 2.3759\n",
            "Train Classifier, Epoch: 26/30, Iter: 47/47, Loss: 2.2075\n",
            "Train Classifier, Epoch: 27/30, Iter: 47/47, Loss: 1.9094\n",
            "Train Classifier, Epoch: 28/30, Iter: 47/47, Loss: 2.2613\n",
            "Train Classifier, Epoch: 29/30, Iter: 47/47, Loss: 2.6047\n",
            "Train Classifier, Epoch: 30/30, Iter: 47/47, Loss: 2.0191\n",
            "<< end training whole model\n",
            "Calculating accuracy on the whole test set\n",
            "Accuracy on the test set: 0.128000\n",
            ">> start training whole model\n",
            "Train Fine-Tuning, Epoch: 1/50, Iter: 47/47, Loss: 0.8532\n",
            "Train Fine-Tuning, Epoch: 2/50, Iter: 47/47, Loss: 0.5292\n",
            "Train Fine-Tuning, Epoch: 3/50, Iter: 47/47, Loss: 0.4736\n",
            "Train Fine-Tuning, Epoch: 4/50, Iter: 47/47, Loss: 0.3126\n",
            "Train Fine-Tuning, Epoch: 5/50, Iter: 47/47, Loss: 0.2638\n",
            "Train Fine-Tuning, Epoch: 6/50, Iter: 47/47, Loss: 0.5348\n",
            "Train Fine-Tuning, Epoch: 7/50, Iter: 47/47, Loss: 0.3866\n",
            "Train Fine-Tuning, Epoch: 8/50, Iter: 47/47, Loss: 0.4167\n",
            "Train Fine-Tuning, Epoch: 9/50, Iter: 47/47, Loss: 0.4042\n",
            "Train Fine-Tuning, Epoch: 10/50, Iter: 47/47, Loss: 0.3265\n",
            "Train Fine-Tuning, Epoch: 11/50, Iter: 47/47, Loss: 0.4008\n",
            "Train Fine-Tuning, Epoch: 12/50, Iter: 47/47, Loss: 0.3026\n",
            "Train Fine-Tuning, Epoch: 13/50, Iter: 47/47, Loss: 0.2918\n",
            "Train Fine-Tuning, Epoch: 14/50, Iter: 47/47, Loss: 0.1687\n",
            "Train Fine-Tuning, Epoch: 15/50, Iter: 47/47, Loss: 0.1539\n",
            "Train Fine-Tuning, Epoch: 16/50, Iter: 47/47, Loss: 0.1339\n",
            "Train Fine-Tuning, Epoch: 17/50, Iter: 47/47, Loss: 0.2692\n",
            "Train Fine-Tuning, Epoch: 18/50, Iter: 47/47, Loss: 0.2009\n",
            "Train Fine-Tuning, Epoch: 19/50, Iter: 47/47, Loss: 0.1898\n",
            "Train Fine-Tuning, Epoch: 20/50, Iter: 47/47, Loss: 0.2684\n",
            "Train Fine-Tuning, Epoch: 21/50, Iter: 47/47, Loss: 0.1657\n",
            "Train Fine-Tuning, Epoch: 22/50, Iter: 47/47, Loss: 0.0747\n",
            "Train Fine-Tuning, Epoch: 23/50, Iter: 47/47, Loss: 0.1024\n",
            "Train Fine-Tuning, Epoch: 24/50, Iter: 47/47, Loss: 0.1036\n",
            "Train Fine-Tuning, Epoch: 25/50, Iter: 47/47, Loss: 0.1903\n",
            "Train Fine-Tuning, Epoch: 26/50, Iter: 47/47, Loss: 0.1743\n",
            "Train Fine-Tuning, Epoch: 27/50, Iter: 47/47, Loss: 0.0846\n",
            "Train Fine-Tuning, Epoch: 28/50, Iter: 47/47, Loss: 0.0665\n",
            "Train Fine-Tuning, Epoch: 29/50, Iter: 47/47, Loss: 0.0929\n",
            "Train Fine-Tuning, Epoch: 30/50, Iter: 47/47, Loss: 0.0774\n",
            "Train Fine-Tuning, Epoch: 31/50, Iter: 47/47, Loss: 0.0670\n",
            "Train Fine-Tuning, Epoch: 32/50, Iter: 47/47, Loss: 0.0546\n",
            "Train Fine-Tuning, Epoch: 33/50, Iter: 47/47, Loss: 0.0961\n",
            "Train Fine-Tuning, Epoch: 34/50, Iter: 47/47, Loss: 0.0774\n",
            "Train Fine-Tuning, Epoch: 35/50, Iter: 47/47, Loss: 0.1017\n",
            "Train Fine-Tuning, Epoch: 36/50, Iter: 47/47, Loss: 0.0631\n",
            "Train Fine-Tuning, Epoch: 37/50, Iter: 47/47, Loss: 0.0906\n",
            "Train Fine-Tuning, Epoch: 38/50, Iter: 47/47, Loss: 0.0211\n",
            "Train Fine-Tuning, Epoch: 39/50, Iter: 47/47, Loss: 0.1134\n",
            "Train Fine-Tuning, Epoch: 40/50, Iter: 47/47, Loss: 0.0265\n",
            "Train Fine-Tuning, Epoch: 41/50, Iter: 47/47, Loss: 0.0208\n",
            "Train Fine-Tuning, Epoch: 42/50, Iter: 47/47, Loss: 0.0309\n",
            "Train Fine-Tuning, Epoch: 43/50, Iter: 47/47, Loss: 0.0327\n",
            "Train Fine-Tuning, Epoch: 44/50, Iter: 47/47, Loss: 0.0206\n",
            "Train Fine-Tuning, Epoch: 45/50, Iter: 47/47, Loss: 0.0385\n",
            "Train Fine-Tuning, Epoch: 46/50, Iter: 47/47, Loss: 0.0467\n",
            "Train Fine-Tuning, Epoch: 47/50, Iter: 47/47, Loss: 0.0657\n",
            "Train Fine-Tuning, Epoch: 48/50, Iter: 47/47, Loss: 0.0360\n",
            "Train Fine-Tuning, Epoch: 49/50, Iter: 47/47, Loss: 0.0615\n",
            "Train Fine-Tuning, Epoch: 50/50, Iter: 47/47, Loss: 0.0266\n",
            "<< end training whole model\n",
            "Calculating accuracy on the whole test set\n",
            "Accuracy on the test set: 0.941000\n"
          ]
        }
      ],
      "source": [
        "input_dim = 784\n",
        "hidden_dim1 = 256\n",
        "hidden_dim2 = 64\n",
        "# Define the autoencoder layers\n",
        "# Try different values for the dimensions of the hidden layers and the number of layers\n",
        "encoder_1 = AutoEncoderLayer(input_dim = input_dim, hidden_dim = hidden_dim1, SelfTraining=True)\n",
        "encoder_2 = AutoEncoderLayer(input_dim = hidden_dim1, hidden_dim = hidden_dim2, SelfTraining=True)\n",
        "\n",
        "encoders_list = [encoder_1, encoder_2]\n",
        "num_layers = len(encoders_list)\n",
        "losses = []\n",
        "\n",
        "# Pre-train each layer\n",
        "for level in range(num_layers):\n",
        "   train_layer(layers_list=encoders_list, layer=level, epochs=num_layer_wise_epochs, validate=True, batch_size = batch_size, losses=losses)\n",
        "\n",
        "# Build the stacked autoencoder\n",
        "SAE_model = StackedAutoEncoderClassifier(autoencoder_list=encoders_list, num_classes = 10)\n",
        "# Print the model\n",
        "print(SAE_model)\n",
        "\n",
        "# First train the classification layer\n",
        "train_classifier(model=SAE_model, epochs=num_classifier_epochs, fine_tuning = False, batch_size = batch_size, losses=losses)\n",
        "\n",
        "# Train the whole model and perform fine-tuning\n",
        "train_classifier(model=SAE_model, epochs=num_finetuning_epochs, fine_tuning = True, batch_size = batch_size, losses=losses)\n",
        "\n",
        "\n",
        "# Save the model (refer: https://pytorch.org/docs/master/notes/serialization.html)\n",
        "torch.save(SAE_model, './models/sae_model.pt')"
      ]
    },
    {
      "cell_type": "code",
      "execution_count": 65,
      "metadata": {},
      "outputs": [
        {
          "data": {
            "image/png": "[encoded data removed]",
            "text/plain": [
              "<Figure size 1000x400 with 1 Axes>"
            ]
          },
          "metadata": {},
          "output_type": "display_data"
        }
      ],
      "source": [
        "from pathlib import Path\n",
        "FIGURE_PATH = Path(\"../report/figures\")\n",
        "import matplotlib.pyplot as plt\n",
        "plt.figure(figsize=(10, 4))\n",
        "plt.plot([i for i in range(len(losses))], [float(loss) for loss in losses])\n",
        "# Vertical lines to indicate the end of pre-training and fine-tuning\n",
        "plt.axvline(x=num_layer_wise_epochs, color='r', linestyle='--')\n",
        "plt.axvline(x=num_layer_wise_epochs * 2, color='r', linestyle='--')\n",
        "plt.axvline(x=num_layer_wise_epochs * 2 + num_classifier_epochs, color='r', linestyle='--')\n",
        "plt.xlabel('Epochs')\n",
        "plt.ylabel('Loss')\n",
        "plt.grid(True)\n",
        "plt.savefig(FIGURE_PATH / \"ex3_1_loss.pdf\", bbox_inches='tight')\n",
        "plt.show()"
      ]
    },
    {
      "cell_type": "code",
      "execution_count": null,
      "metadata": {},
      "outputs": [],
      "source": []
    }
  ],
  "metadata": {
    "accelerator": "GPU",
    "colab": {
      "gpuType": "T4",
      "provenance": []
    },
    "kernelspec": {
      "display_name": "Python 3",
      "name": "python3"
    },
    "language_info": {
      "codemirror_mode": {
        "name": "ipython",
        "version": 3
      },
      "file_extension": ".py",
      "mimetype": "text/x-python",
      "name": "python",
      "nbconvert_exporter": "python",
      "pygments_lexer": "ipython3",
      "version": "3.11.9"
    }
  },
  "nbformat": 4,
  "nbformat_minor": 0
}
